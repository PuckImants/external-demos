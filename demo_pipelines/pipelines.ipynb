{
 "cells": [
  {
   "cell_type": "code",
   "execution_count": 1,
   "id": "5cec9aa6-1077-4426-b750-39e1b6e02dc8",
   "metadata": {
    "tags": []
   },
   "outputs": [
    {
     "name": "stdout",
     "output_type": "stream",
     "text": [
      "Requirement already satisfied: google-cloud-aiplatform in /opt/conda/lib/python3.10/site-packages (1.36.4)\n",
      "Requirement already satisfied: shapely<2 in /opt/conda/lib/python3.10/site-packages (1.8.5.post1)\n",
      "Requirement already satisfied: google-api-core!=2.0.*,!=2.1.*,!=2.2.*,!=2.3.*,!=2.4.*,!=2.5.*,!=2.6.*,!=2.7.*,<3.0.0dev,>=1.32.0 in /opt/conda/lib/python3.10/site-packages (from google-api-core[grpc]!=2.0.*,!=2.1.*,!=2.2.*,!=2.3.*,!=2.4.*,!=2.5.*,!=2.6.*,!=2.7.*,<3.0.0dev,>=1.32.0->google-cloud-aiplatform) (1.34.0)\n",
      "Requirement already satisfied: proto-plus<2.0.0dev,>=1.22.0 in /opt/conda/lib/python3.10/site-packages (from google-cloud-aiplatform) (1.22.3)\n",
      "Requirement already satisfied: protobuf!=3.20.0,!=3.20.1,!=4.21.0,!=4.21.1,!=4.21.2,!=4.21.3,!=4.21.4,!=4.21.5,<5.0.0dev,>=3.19.5 in /opt/conda/lib/python3.10/site-packages (from google-cloud-aiplatform) (3.19.6)\n",
      "Requirement already satisfied: packaging>=14.3 in /opt/conda/lib/python3.10/site-packages (from google-cloud-aiplatform) (21.3)\n",
      "Requirement already satisfied: google-cloud-storage<3.0.0dev,>=1.32.0 in /opt/conda/lib/python3.10/site-packages (from google-cloud-aiplatform) (1.44.0)\n",
      "Requirement already satisfied: google-cloud-bigquery<4.0.0dev,>=1.15.0 in /opt/conda/lib/python3.10/site-packages (from google-cloud-aiplatform) (2.34.4)\n",
      "Requirement already satisfied: google-cloud-resource-manager<3.0.0dev,>=1.3.3 in /opt/conda/lib/python3.10/site-packages (from google-cloud-aiplatform) (1.10.4)\n",
      "Requirement already satisfied: googleapis-common-protos<2.0dev,>=1.56.2 in /opt/conda/lib/python3.10/site-packages (from google-api-core!=2.0.*,!=2.1.*,!=2.2.*,!=2.3.*,!=2.4.*,!=2.5.*,!=2.6.*,!=2.7.*,<3.0.0dev,>=1.32.0->google-api-core[grpc]!=2.0.*,!=2.1.*,!=2.2.*,!=2.3.*,!=2.4.*,!=2.5.*,!=2.6.*,!=2.7.*,<3.0.0dev,>=1.32.0->google-cloud-aiplatform) (1.61.0)\n",
      "Requirement already satisfied: google-auth<3.0dev,>=1.25.0 in /opt/conda/lib/python3.10/site-packages (from google-api-core!=2.0.*,!=2.1.*,!=2.2.*,!=2.3.*,!=2.4.*,!=2.5.*,!=2.6.*,!=2.7.*,<3.0.0dev,>=1.32.0->google-api-core[grpc]!=2.0.*,!=2.1.*,!=2.2.*,!=2.3.*,!=2.4.*,!=2.5.*,!=2.6.*,!=2.7.*,<3.0.0dev,>=1.32.0->google-cloud-aiplatform) (2.23.4)\n",
      "Requirement already satisfied: requests<3.0.0dev,>=2.18.0 in /opt/conda/lib/python3.10/site-packages (from google-api-core!=2.0.*,!=2.1.*,!=2.2.*,!=2.3.*,!=2.4.*,!=2.5.*,!=2.6.*,!=2.7.*,<3.0.0dev,>=1.32.0->google-api-core[grpc]!=2.0.*,!=2.1.*,!=2.2.*,!=2.3.*,!=2.4.*,!=2.5.*,!=2.6.*,!=2.7.*,<3.0.0dev,>=1.32.0->google-cloud-aiplatform) (2.31.0)\n",
      "Requirement already satisfied: grpcio<2.0dev,>=1.33.2 in /opt/conda/lib/python3.10/site-packages (from google-api-core[grpc]!=2.0.*,!=2.1.*,!=2.2.*,!=2.3.*,!=2.4.*,!=2.5.*,!=2.6.*,!=2.7.*,<3.0.0dev,>=1.32.0->google-cloud-aiplatform) (1.48.1)\n",
      "Requirement already satisfied: grpcio-status<2.0dev,>=1.33.2 in /opt/conda/lib/python3.10/site-packages (from google-api-core[grpc]!=2.0.*,!=2.1.*,!=2.2.*,!=2.3.*,!=2.4.*,!=2.5.*,!=2.6.*,!=2.7.*,<3.0.0dev,>=1.32.0->google-cloud-aiplatform) (1.48.1)\n",
      "Requirement already satisfied: google-cloud-core<3.0.0dev,>=1.4.1 in /opt/conda/lib/python3.10/site-packages (from google-cloud-bigquery<4.0.0dev,>=1.15.0->google-cloud-aiplatform) (2.3.3)\n",
      "Requirement already satisfied: google-resumable-media<3.0dev,>=0.6.0 in /opt/conda/lib/python3.10/site-packages (from google-cloud-bigquery<4.0.0dev,>=1.15.0->google-cloud-aiplatform) (2.6.0)\n",
      "Requirement already satisfied: python-dateutil<3.0dev,>=2.7.2 in /opt/conda/lib/python3.10/site-packages (from google-cloud-bigquery<4.0.0dev,>=1.15.0->google-cloud-aiplatform) (2.8.2)\n",
      "Requirement already satisfied: grpc-google-iam-v1<1.0.0dev,>=0.12.4 in /opt/conda/lib/python3.10/site-packages (from google-cloud-resource-manager<3.0.0dev,>=1.3.3->google-cloud-aiplatform) (0.12.6)\n",
      "Requirement already satisfied: six in /opt/conda/lib/python3.10/site-packages (from google-cloud-storage<3.0.0dev,>=1.32.0->google-cloud-aiplatform) (1.16.0)\n",
      "Requirement already satisfied: pyparsing!=3.0.5,>=2.0.2 in /opt/conda/lib/python3.10/site-packages (from packaging>=14.3->google-cloud-aiplatform) (3.1.1)\n",
      "Requirement already satisfied: cachetools<6.0,>=2.0.0 in /opt/conda/lib/python3.10/site-packages (from google-auth<3.0dev,>=1.25.0->google-api-core!=2.0.*,!=2.1.*,!=2.2.*,!=2.3.*,!=2.4.*,!=2.5.*,!=2.6.*,!=2.7.*,<3.0.0dev,>=1.32.0->google-api-core[grpc]!=2.0.*,!=2.1.*,!=2.2.*,!=2.3.*,!=2.4.*,!=2.5.*,!=2.6.*,!=2.7.*,<3.0.0dev,>=1.32.0->google-cloud-aiplatform) (4.2.4)\n",
      "Requirement already satisfied: pyasn1-modules>=0.2.1 in /opt/conda/lib/python3.10/site-packages (from google-auth<3.0dev,>=1.25.0->google-api-core!=2.0.*,!=2.1.*,!=2.2.*,!=2.3.*,!=2.4.*,!=2.5.*,!=2.6.*,!=2.7.*,<3.0.0dev,>=1.32.0->google-api-core[grpc]!=2.0.*,!=2.1.*,!=2.2.*,!=2.3.*,!=2.4.*,!=2.5.*,!=2.6.*,!=2.7.*,<3.0.0dev,>=1.32.0->google-cloud-aiplatform) (0.3.0)\n",
      "Requirement already satisfied: rsa<5,>=3.1.4 in /opt/conda/lib/python3.10/site-packages (from google-auth<3.0dev,>=1.25.0->google-api-core!=2.0.*,!=2.1.*,!=2.2.*,!=2.3.*,!=2.4.*,!=2.5.*,!=2.6.*,!=2.7.*,<3.0.0dev,>=1.32.0->google-api-core[grpc]!=2.0.*,!=2.1.*,!=2.2.*,!=2.3.*,!=2.4.*,!=2.5.*,!=2.6.*,!=2.7.*,<3.0.0dev,>=1.32.0->google-cloud-aiplatform) (4.9)\n",
      "Requirement already satisfied: google-crc32c<2.0dev,>=1.0 in /opt/conda/lib/python3.10/site-packages (from google-resumable-media<3.0dev,>=0.6.0->google-cloud-bigquery<4.0.0dev,>=1.15.0->google-cloud-aiplatform) (1.5.0)\n",
      "Requirement already satisfied: charset-normalizer<4,>=2 in /opt/conda/lib/python3.10/site-packages (from requests<3.0.0dev,>=2.18.0->google-api-core!=2.0.*,!=2.1.*,!=2.2.*,!=2.3.*,!=2.4.*,!=2.5.*,!=2.6.*,!=2.7.*,<3.0.0dev,>=1.32.0->google-api-core[grpc]!=2.0.*,!=2.1.*,!=2.2.*,!=2.3.*,!=2.4.*,!=2.5.*,!=2.6.*,!=2.7.*,<3.0.0dev,>=1.32.0->google-cloud-aiplatform) (3.3.2)\n",
      "Requirement already satisfied: idna<4,>=2.5 in /opt/conda/lib/python3.10/site-packages (from requests<3.0.0dev,>=2.18.0->google-api-core!=2.0.*,!=2.1.*,!=2.2.*,!=2.3.*,!=2.4.*,!=2.5.*,!=2.6.*,!=2.7.*,<3.0.0dev,>=1.32.0->google-api-core[grpc]!=2.0.*,!=2.1.*,!=2.2.*,!=2.3.*,!=2.4.*,!=2.5.*,!=2.6.*,!=2.7.*,<3.0.0dev,>=1.32.0->google-cloud-aiplatform) (3.4)\n",
      "Requirement already satisfied: urllib3<3,>=1.21.1 in /opt/conda/lib/python3.10/site-packages (from requests<3.0.0dev,>=2.18.0->google-api-core!=2.0.*,!=2.1.*,!=2.2.*,!=2.3.*,!=2.4.*,!=2.5.*,!=2.6.*,!=2.7.*,<3.0.0dev,>=1.32.0->google-api-core[grpc]!=2.0.*,!=2.1.*,!=2.2.*,!=2.3.*,!=2.4.*,!=2.5.*,!=2.6.*,!=2.7.*,<3.0.0dev,>=1.32.0->google-cloud-aiplatform) (1.26.18)\n",
      "Requirement already satisfied: certifi>=2017.4.17 in /opt/conda/lib/python3.10/site-packages (from requests<3.0.0dev,>=2.18.0->google-api-core!=2.0.*,!=2.1.*,!=2.2.*,!=2.3.*,!=2.4.*,!=2.5.*,!=2.6.*,!=2.7.*,<3.0.0dev,>=1.32.0->google-api-core[grpc]!=2.0.*,!=2.1.*,!=2.2.*,!=2.3.*,!=2.4.*,!=2.5.*,!=2.6.*,!=2.7.*,<3.0.0dev,>=1.32.0->google-cloud-aiplatform) (2023.7.22)\n",
      "Requirement already satisfied: pyasn1<0.6.0,>=0.4.6 in /opt/conda/lib/python3.10/site-packages (from pyasn1-modules>=0.2.1->google-auth<3.0dev,>=1.25.0->google-api-core!=2.0.*,!=2.1.*,!=2.2.*,!=2.3.*,!=2.4.*,!=2.5.*,!=2.6.*,!=2.7.*,<3.0.0dev,>=1.32.0->google-api-core[grpc]!=2.0.*,!=2.1.*,!=2.2.*,!=2.3.*,!=2.4.*,!=2.5.*,!=2.6.*,!=2.7.*,<3.0.0dev,>=1.32.0->google-cloud-aiplatform) (0.5.0)\n"
     ]
    }
   ],
   "source": [
    "!pip install -U google-cloud-aiplatform \"shapely<2\""
   ]
  },
  {
   "cell_type": "code",
   "execution_count": 1,
   "id": "09032df2-8b50-4220-a99a-b100dddcecb3",
   "metadata": {
    "tags": []
   },
   "outputs": [],
   "source": [
    "PROJECT_ID = 'dt-tu-sandbox-dev'\n",
    "BUCKET_URI = 'gs://x-demos-us'\n",
    "REGION = \"us-central1\""
   ]
  },
  {
   "cell_type": "code",
   "execution_count": 2,
   "id": "c2e99410-dffa-49f7-94fe-2502141dbdc0",
   "metadata": {
    "tags": []
   },
   "outputs": [],
   "source": [
    "from kfp import compiler, dsl\n",
    "from kfp.dsl import pipeline, importer_node, Input, component, Metrics, Output, Artifact, Dataset\n",
    "\n",
    "from google.cloud import aiplatform\n",
    "from google_cloud_pipeline_components.v1 import dataset, model, custom_job, batch_predict_job\n",
    "from google_cloud_pipeline_components.types import artifact_types\n",
    "from datetime import datetime"
   ]
  },
  {
   "cell_type": "code",
   "execution_count": 3,
   "id": "977433e7-aae6-4e2e-923c-9f52e3c9cb58",
   "metadata": {
    "tags": []
   },
   "outputs": [
    {
     "name": "stdout",
     "output_type": "stream",
     "text": [
      "Creating gs://x-demos-us/...\n",
      "ServiceException: 409 A Cloud Storage bucket named 'x-demos-us' already exists. Try another name. Bucket names must be globally unique across all Google Cloud projects, including those outside of your organization.\n"
     ]
    }
   ],
   "source": [
    "!gsutil mb -l $REGION -p $PROJECT_ID $BUCKET_URI "
   ]
  },
  {
   "cell_type": "code",
   "execution_count": 4,
   "id": "d2cc56a8-e6fe-4778-9eaf-2cf94271b046",
   "metadata": {
    "tags": []
   },
   "outputs": [
    {
     "name": "stdout",
     "output_type": "stream",
     "text": [
      "env: PATH=/usr/local/cuda/bin:/opt/conda/bin:/opt/conda/condabin:/usr/local/bin:/usr/bin:/bin:/usr/local/games:/usr/games:/home/jupyter/.local/bin\n"
     ]
    },
    {
     "data": {
      "text/plain": [
       "'gs://ovo-demos-us/pipeline_root/'"
      ]
     },
     "execution_count": 4,
     "metadata": {},
     "output_type": "execute_result"
    }
   ],
   "source": [
    "PATH=%env PATH\n",
    "%env PATH={PATH}:/home/jupyter/.local/bin\n",
    "\n",
    "PIPELINE_ROOT = f\"{BUCKET_URI}/pipeline_root/\"\n",
    "PIPELINE_ROOT"
   ]
  },
  {
   "cell_type": "code",
   "execution_count": 5,
   "id": "dd0fd3c4-02c5-480a-b327-fe2d27a97d6f",
   "metadata": {
    "tags": []
   },
   "outputs": [],
   "source": [
    "!mkdir traincontainer\n",
    "!mkdir traincontainer/trainer"
   ]
  },
  {
   "cell_type": "code",
   "execution_count": 6,
   "id": "953f79f5-2ea9-48a3-bdf3-b3cd43ad761b",
   "metadata": {
    "tags": []
   },
   "outputs": [
    {
     "name": "stdout",
     "output_type": "stream",
     "text": [
      "Writing traincontainer/Dockerfile\n"
     ]
    }
   ],
   "source": [
    "%%writefile traincontainer/Dockerfile\n",
    "FROM gcr.io/deeplearning-platform-release/sklearn-cpu.0-23\n",
    "WORKDIR /\n",
    "\n",
    "# Copies the trainer code to the docker image.\n",
    "COPY trainer /trainer\n",
    "\n",
    "RUN pip install sklearn google-cloud-bigquery joblib pandas google-cloud-storage\n",
    "\n",
    "# Sets up the entry point to invoke the trainer.\n",
    "ENTRYPOINT [\"python\", \"-m\", \"trainer.train\"]"
   ]
  },
  {
   "cell_type": "code",
   "execution_count": 7,
   "id": "8c37dbde-c10e-437f-8ea2-4b21511e8753",
   "metadata": {
    "tags": []
   },
   "outputs": [
    {
     "name": "stdout",
     "output_type": "stream",
     "text": [
      "Writing traincontainer/trainer/train.py\n"
     ]
    }
   ],
   "source": [
    "%%writefile traincontainer/trainer/train.py\n",
    "from sklearn.tree import DecisionTreeClassifier\n",
    "from sklearn.metrics import roc_curve\n",
    "from sklearn.model_selection import train_test_split\n",
    "from google.cloud import bigquery\n",
    "from google.cloud import storage\n",
    "from joblib import dump\n",
    "\n",
    "import os\n",
    "import pandas as pd\n",
    "\n",
    "bqclient = bigquery.Client()\n",
    "storage_client = storage.Client()\n",
    "\n",
    "def download_table(bq_table_uri: str):\n",
    "    prefix = \"bq://\"\n",
    "    if bq_table_uri.startswith(prefix):\n",
    "        bq_table_uri = bq_table_uri[len(prefix):]\n",
    "\n",
    "    table = bigquery.TableReference.from_string(bq_table_uri)\n",
    "    rows = bqclient.list_rows(\n",
    "        table,\n",
    "    )\n",
    "    return rows.to_dataframe(create_bqstorage_client=False)\n",
    "\n",
    "# These environment variables are from Vertex AI managed datasets\n",
    "training_data_uri = os.environ[\"AIP_TRAINING_DATA_URI\"]\n",
    "test_data_uri = os.environ[\"AIP_TEST_DATA_URI\"]\n",
    "\n",
    "# Download data into Pandas DataFrames, split into train / test\n",
    "df = download_table(training_data_uri)\n",
    "test_df = download_table(test_data_uri)\n",
    "labels = df.pop(\"Class\").tolist()\n",
    "data = df.values.tolist()\n",
    "test_labels = test_df.pop(\"Class\").tolist()\n",
    "test_data = test_df.values.tolist()\n",
    "\n",
    "# Define and train the Scikit model\n",
    "skmodel = DecisionTreeClassifier()\n",
    "skmodel.fit(data, labels)\n",
    "score = skmodel.score(test_data, test_labels)\n",
    "print('accuracy is:',score)\n",
    "\n",
    "# Save the model to a local file\n",
    "dump(skmodel, \"model.joblib\")\n",
    "\n",
    "# Upload the saved model file to GCS\n",
    "bucket = storage_client.get_bucket(\"YOUR_GCS_BUCKET\")\n",
    "model_directory = os.environ[\"AIP_MODEL_DIR\"]\n",
    "storage_path = os.path.join(model_directory, \"model.joblib\")\n",
    "blob = storage.blob.Blob.from_string(storage_path, client=storage_client)\n",
    "blob.upload_from_filename(\"model.joblib\")"
   ]
  },
  {
   "cell_type": "code",
   "execution_count": 8,
   "id": "69772cf8-574e-4290-b715-fa0e12f5b62f",
   "metadata": {
    "tags": []
   },
   "outputs": [],
   "source": [
    "BUCKET = BUCKET_URI[5:] # Trim the 'gs://' before adding to train script\n",
    "!sed -i -r 's@YOUR_GCS_BUCKET@'\"$BUCKET\"'@' traincontainer/trainer/train.py"
   ]
  },
  {
   "cell_type": "code",
   "execution_count": 9,
   "id": "1c74805c-c5d0-4047-ab53-d563fe5b5290",
   "metadata": {
    "tags": []
   },
   "outputs": [],
   "source": [
    "IMAGE_URI=f\"gcr.io/{PROJECT_ID}/scikit:v1\""
   ]
  },
  {
   "cell_type": "code",
   "execution_count": 10,
   "id": "a7763f84-a4fd-4432-955d-175e7dfa5034",
   "metadata": {
    "tags": []
   },
   "outputs": [
    {
     "name": "stdout",
     "output_type": "stream",
     "text": [
      "Sending build context to Docker daemon   5.12kB\n",
      "Step 1/5 : FROM gcr.io/deeplearning-platform-release/sklearn-cpu.0-23\n",
      " ---> 834b2407ec81\n",
      "Step 2/5 : WORKDIR /\n",
      " ---> Using cache\n",
      " ---> b19575cc807b\n",
      "Step 3/5 : COPY trainer /trainer\n",
      " ---> 86aa09b559b7\n",
      "Step 4/5 : RUN pip install sklearn google-cloud-bigquery joblib pandas google-cloud-storage\n",
      " ---> Running in 64b87f88d232\n",
      "Collecting sklearn\n",
      "  Downloading sklearn-0.0.post11.tar.gz (3.6 kB)\n",
      "  Preparing metadata (setup.py): started\n",
      "  Preparing metadata (setup.py): finished with status 'error'\n",
      "\u001b[91m  error: subprocess-exited-with-error\n",
      "  \n",
      "  × python setup.py egg_info did not run successfully.\n",
      "  │ exit code: 1\n",
      "  ╰─> [18 lines of output]\n",
      "      The 'sklearn' PyPI package is deprecated, use 'scikit-learn'\n",
      "      rather than 'sklearn' for pip commands.\n",
      "      \n",
      "      Here is how to fix this error in the main use cases:\n",
      "      - use 'pip install scikit-learn' rather than 'pip install sklearn'\n",
      "      - replace 'sklearn' by 'scikit-learn' in your pip requirements files\n",
      "        (requirements.txt, setup.py, setup.cfg, Pipfile, etc ...)\n",
      "      - if the 'sklearn' package is used by one of your dependencies,\n",
      "        it would be great if you take some time to track which package uses\n",
      "        'sklearn' instead of 'scikit-learn' and report it to their issue tracker\n",
      "      - as a last resort, set the environment variable\n",
      "        SKLEARN_ALLOW_DEPRECATED_SKLEARN_PACKAGE_INSTALL=True to avoid this error\n",
      "      \n",
      "      More information is available at\n",
      "      https://github.com/scikit-learn/sklearn-pypi-package\n",
      "      \n",
      "      If the previous advice does not cover your use case, feel free to report it at\n",
      "      https://github.com/scikit-learn/sklearn-pypi-package/issues/new\n",
      "      [end of output]\n",
      "  \n",
      "  note: This error originates from a subprocess, and is likely not a problem with pip.\n",
      "\u001b[0m\u001b[91merror: metadata-generation-failed\n",
      "\n",
      "× Encountered error while generating package metadata.\n",
      "╰─> See above for output.\n",
      "\n",
      "note: This is an issue with the package mentioned above, not pip.\n",
      "hint: See above for details.\n",
      "\u001b[0mThe command '/bin/sh -c pip install sklearn google-cloud-bigquery joblib pandas google-cloud-storage' returned a non-zero code: 1\n"
     ]
    }
   ],
   "source": [
    "!docker build ./traincontainer -t $IMAGE_URI"
   ]
  },
  {
   "cell_type": "code",
   "execution_count": 11,
   "id": "74f5bb85-2e43-47a7-95bb-6ce3cf2779e5",
   "metadata": {
    "tags": []
   },
   "outputs": [
    {
     "name": "stdout",
     "output_type": "stream",
     "text": [
      "The push refers to repository [gcr.io/dt-tu-sandbox-dev/scikit]\n",
      "\n",
      "\u001b[1Bb21ef996: Preparing \n",
      "\u001b[1Bf5655919: Preparing \n",
      "\u001b[1B306932b9: Preparing \n",
      "\u001b[1Bb913d7bd: Preparing \n",
      "\u001b[1Bce19c9dd: Preparing \n",
      "\u001b[1Bfaab67e8: Preparing \n",
      "\u001b[1B2b5f8a22: Preparing \n",
      "\u001b[1B6cf8673e: Preparing \n",
      "\u001b[1B2cf21221: Preparing \n",
      "\u001b[1B24722d3f: Preparing \n",
      "\u001b[1Bb9d4bbb9: Preparing \n",
      "\u001b[1B0533bd85: Preparing \n",
      "\u001b[1Be1652f88: Preparing \n",
      "\u001b[1B17ce4d28: Preparing \n",
      "\u001b[1B70dfb97d: Preparing \n",
      "\u001b[1B63ac1279: Preparing \n",
      "\u001b[1B158f7ef1: Preparing \n",
      "\u001b[1B07a648ba: Preparing \n",
      "\u001b[1B75d94c35: Preparing \n",
      "\u001b[1Bbf18a086: Preparing \n",
      "\u001b[1Bfc16734e: Preparing \n",
      "\u001b[3Bbf18a086: Preparing \n",
      "\u001b[1Bd63887b6: Preparing \n",
      "\u001b[1Bd3c0b431: Preparing \n",
      "\u001b[1B82bdeb5f: Layer already exists \u001b[21A\u001b[2K\u001b[20A\u001b[2K\u001b[19A\u001b[2K\u001b[15A\u001b[2K\u001b[11A\u001b[2K\u001b[10A\u001b[2K\u001b[9A\u001b[2K\u001b[5A\u001b[2K\u001b[4A\u001b[2K\u001b[3A\u001b[2Kv1: digest: sha256:c0768ae21cd40547ea9769e74498d360ec9b6ebe7b3018347008dc0e0e8f9a31 size: 5755\n"
     ]
    }
   ],
   "source": [
    "!docker push $IMAGE_URI"
   ]
  },
  {
   "cell_type": "code",
   "execution_count": 12,
   "id": "9d1b2496-6dd4-4132-94fc-fdedca47989e",
   "metadata": {
    "tags": []
   },
   "outputs": [
    {
     "name": "stdout",
     "output_type": "stream",
     "text": [
      "Writing batch_examples.csv\n"
     ]
    }
   ],
   "source": [
    "%%writefile batch_examples.csv\n",
    "Area,Perimeter,MajorAxisLength,MinorAxisLength,AspectRation,Eccentricity,ConvexArea,EquivDiameter,Extent,Solidity,roundness,Compactness,ShapeFactor1,ShapeFactor2,ShapeFactor3,ShapeFactor4\n",
    "23288,558.113,207.567738,143.085693,1.450653336,0.7244336162,23545,172.1952453,0.8045881703,0.9890847314,0.9395021523,0.8295857874,0.008913077034,0.002604069884,0.6882125787,0.9983578734\n",
    "23689,575.638,205.9678003,146.7475015,1.403552348,0.7016945718,24018,173.6714472,0.7652721693,0.9863019402,0.8983750474,0.8431970773,0.00869465998,0.002711119968,0.7109813112,0.9978994889\n",
    "23727,559.503,189.7993849,159.3717704,1.190922235,0.5430731512,24021,173.8106863,0.8037601626,0.9877607094,0.952462433,0.9157600082,0.007999299741,0.003470231343,0.8386163926,0.9987269085\n",
    "31158,641.105,212.0669751,187.1929601,1.132879009,0.4699241567,31474,199.1773023,0.7813134733,0.989959967,0.9526231013,0.9392188582,0.0068061806,0.003267009878,0.8821320637,0.9993488983\n",
    "32514,649.012,221.4454899,187.1344232,1.183349841,0.5346736437,32843,203.4652564,0.7849831,0.9899826447,0.9700068737,0.9188051492,0.00681077351,0.002994124691,0.8442029022,0.9989873701\n",
    "33078,659.456,235.5600775,178.9312328,1.316483846,0.6503915309,33333,205.2223615,0.7877214708,0.9923499235,0.9558229607,0.8712102818,0.007121351881,0.002530662194,0.7590073551,0.9992209221\n",
    "33680,683.09,256.203255,167.9334938,1.525623324,0.7552213942,34019,207.081404,0.80680321,0.9900349805,0.9070392732,0.8082699962,0.007606985006,0.002002710402,0.6533003868,0.9966903078\n",
    "33954,716.75,277.3684803,156.3563259,1.773951126,0.825970469,34420,207.9220419,0.7994819873,0.9864613597,0.8305492781,0.7496238998,0.008168948587,0.001591181142,0.5619359911,0.996846984\n",
    "36322,719.437,272.0582306,170.8914975,1.591993952,0.7780978465,36717,215.0502424,0.7718560075,0.9892420405,0.8818487005,0.7904566678,0.007490177594,0.001803782407,0.6248217437,0.9947124371\n",
    "36675,742.917,285.8908964,166.8819538,1.713132487,0.8119506999,37613,216.0927123,0.7788277766,0.9750618137,0.8350248381,0.7558572692,0.0077952528,0.001569528272,0.5713202115,0.9787472145\n",
    "37454,772.679,297.6274753,162.1493177,1.835514817,0.8385619338,38113,218.3756257,0.8016695205,0.9827093118,0.7883332637,0.7337213257,0.007946480356,0.001420623993,0.5383469838,0.9881438654\n",
    "37789,766.378,313.5680678,154.3409867,2.031657789,0.8704771226,38251,219.3500608,0.7805870567,0.9879218844,0.8085170916,0.6995293312,0.008297866252,0.001225659709,0.4893412853,0.9941740339\n",
    "47883,873.536,327.9986493,186.5201272,1.758516115,0.822571799,48753,246.9140116,0.7584464543,0.9821549443,0.7885506623,0.7527897207,0.006850002074,0.00135695419,0.5666923636,0.9965376533\n",
    "49777,861.277,300.7570338,211.6168613,1.42123379,0.7105823885,50590,251.7499649,0.8019106536,0.9839296304,0.843243269,0.8370542883,0.00604208839,0.001829706116,0.7006598815,0.9958014989\n",
    "49882,891.505,357.1890036,179.8346914,1.986207449,0.8640114945,51042,252.0153467,0.7260210171,0.9772736178,0.7886896753,0.7055518063,0.007160679276,0.001094585314,0.4978033513,0.9887407248\n",
    "53249,919.923,325.3866286,208.9174205,1.557489212,0.7666552108,54195,260.3818974,0.6966846347,0.9825445152,0.7907120655,0.8002231025,0.00611066177,0.001545654241,0.6403570138,0.9973491406\n",
    "61129,964.969,369.3481688,210.9473449,1.750902193,0.8208567513,61796,278.9836198,0.7501135067,0.9892064211,0.8249553283,0.7553404711,0.006042110436,0.001213219664,0.5705392272,0.9989583843\n",
    "61918,960.372,353.1381442,224.0962377,1.575832543,0.7728529173,62627,280.7782864,0.7539207091,0.9886790043,0.8436218213,0.7950947556,0.005703319619,0.00140599258,0.6321756704,0.9962029945\n",
    "141953,1402.05,524.2311633,346.3974998,1.513380332,0.7505863011,143704,425.1354762,0.7147107987,0.9878152313,0.9074598849,0.8109694843,0.003692991084,0.0009853172185,0.6576715044,0.9953071199\n",
    "145285,1440.991,524.9567463,353.0769977,1.486805285,0.7400216694,146709,430.0960442,0.7860466375,0.9902937107,0.8792413513,0.8192980608,0.003613289371,0.001004269363,0.6712493125,0.9980170255\n",
    "146153,1476.383,526.1933264,356.528288,1.475881001,0.7354662103,149267,431.3789276,0.7319360978,0.9791380546,0.8425962592,0.8198107159,0.003600290972,0.001003163512,0.6720896099,0.991924286"
   ]
  },
  {
   "cell_type": "code",
   "execution_count": 13,
   "id": "5650141d-ccd0-4949-8dce-7c9710e0e28b",
   "metadata": {
    "tags": []
   },
   "outputs": [
    {
     "name": "stdout",
     "output_type": "stream",
     "text": [
      "Copying file://batch_examples.csv [Content-Type=text/csv]...\n",
      "/ [1 files][  4.0 KiB/  4.0 KiB]                                                \n",
      "Operation completed over 1 objects/4.0 KiB.                                      \n"
     ]
    }
   ],
   "source": [
    "!gsutil cp batch_examples.csv $BUCKET_URI"
   ]
  },
  {
   "cell_type": "code",
   "execution_count": 3,
   "id": "dedb1c7b-d97e-4ab4-8db0-a3207ebdec44",
   "metadata": {
    "tags": []
   },
   "outputs": [],
   "source": [
    "@component(\n",
    "    base_image=\"python:3.10\",\n",
    "    packages_to_install=[\"google-cloud-aiplatform==1.36.4\",\"google-cloud-pipeline-components==2.6.0\"]\n",
    ")\n",
    "def custom_training_job(\n",
    "    project: str,\n",
    "    location: str,\n",
    "    staging_bucket: str,\n",
    "    display_name: str,\n",
    "    container_uri: str,\n",
    "    model_serving_container_image_uri: str,\n",
    "    dataset: Input[artifact_types.VertexDataset],\n",
    "    model_display_name: str,\n",
    "    bigquery_destination: str,\n",
    "    model: Output[Artifact],\n",
    "    metrics: Output[Metrics],\n",
    "    replica_count: int = 1,\n",
    "    machine_type: str = \"n1-standard-4\",\n",
    "    training_fraction_split: float = 0.8,\n",
    "    validation_fraction_split: float = 0.1,\n",
    "    test_fraction_split: float = 0.1,\n",
    "    sync: bool = True,\n",
    "    \n",
    "):\n",
    "    \n",
    "    from google.cloud import aiplatform\n",
    "    \n",
    "    aiplatform.init(project=project, location=location, staging_bucket=staging_bucket)\n",
    "    \n",
    "    job = aiplatform.CustomContainerTrainingJob(\n",
    "        display_name=display_name,\n",
    "        container_uri=container_uri,\n",
    "        model_serving_container_image_uri=model_serving_container_image_uri,\n",
    "    )\n",
    "    \n",
    "    vertex_dataset = aiplatform.TabularDataset(dataset_name=dataset.metadata[\"resourceName\"])\n",
    "    \n",
    "    uploaded_model = job.run(\n",
    "        dataset=vertex_dataset,\n",
    "        model_display_name=model_display_name,\n",
    "        replica_count=replica_count,\n",
    "        machine_type=machine_type,\n",
    "        training_fraction_split=training_fraction_split,\n",
    "        validation_fraction_split=validation_fraction_split,\n",
    "        test_fraction_split=test_fraction_split,\n",
    "        sync=sync,\n",
    "        bigquery_destination=bigquery_destination\n",
    "    )\n",
    "    \n",
    "    resource_name = f\"{uploaded_model.resource_name}@{uploaded_model.version_id}\"\n",
    "    model.metadata[\"resourceName\"] = resource_name\n",
    "    model.metadata[\"containerSpec\"] = {\"imageUri\": model_serving_container_image_uri}\n",
    "    model.uri = uploaded_model.uri\n",
    "    model.TYPE_NAME = \"google.VertexModel\"\n",
    "    "
   ]
  },
  {
   "cell_type": "markdown",
   "id": "596585fc-09b4-4ef0-9362-13c7fce7278f",
   "metadata": {},
   "source": [
    "## Define pipeline"
   ]
  },
  {
   "cell_type": "code",
   "execution_count": 4,
   "id": "986db4e1-b5d5-467b-956f-e674cdd7d90a",
   "metadata": {
    "tags": []
   },
   "outputs": [],
   "source": [
    "@pipeline(name=\"test-pipeline\")\n",
    "def pipeline(\n",
    "    bq_source: str = \"bq://sara-vertex-demos.beans_demo.large_dataset\",\n",
    "    bucket: str = BUCKET_URI,\n",
    "    project: str = PROJECT_ID,\n",
    "    gcp_region: str = REGION,\n",
    "    bq_dest: str = \"\",\n",
    "    container_uri: str = \"\",\n",
    "    batch_destination: str = \"\"\n",
    "):\n",
    "    dataset_create_op = dataset.TabularDatasetCreateOp(\n",
    "        display_name=\"tabular-beans-dataset\",\n",
    "        bq_source=bq_source,\n",
    "        project=project,\n",
    "        location=gcp_region\n",
    "    )\n",
    "    \n",
    "    training_op = custom_training_job(\n",
    "        project=project,\n",
    "        location=gcp_region,\n",
    "        staging_bucket=bucket,\n",
    "        display_name=\"pipeline-beans-custom-train\",\n",
    "        container_uri=container_uri,\n",
    "        model_serving_container_image_uri=\"us-docker.pkg.dev/vertex-ai/prediction/sklearn-cpu.0-24:latest\",\n",
    "        dataset=dataset_create_op.outputs[\"dataset\"],\n",
    "        model_display_name=\"scikit-beans-model-pipeline\",\n",
    "        bigquery_destination=bq_dest,\n",
    "    )\n",
    "   \n",
    "\n",
    "    batch_predict_op = batch_predict_job.ModelBatchPredictOp(\n",
    "        project=project,\n",
    "        location=gcp_region,\n",
    "        job_display_name=\"beans-batch-predict\",\n",
    "        model=training_op.outputs[\"model\"],\n",
    "        gcs_source_uris=[\"{0}/batch_examples.csv\".format(BUCKET_URI)],\n",
    "        instances_format=\"csv\",\n",
    "        gcs_destination_output_uri_prefix=batch_destination,\n",
    "        machine_type=\"n1-standard-4\"\n",
    "    )"
   ]
  },
  {
   "cell_type": "code",
   "execution_count": 5,
   "id": "4b56edc9-bbfd-45ec-9d62-cadbe282339a",
   "metadata": {
    "tags": []
   },
   "outputs": [],
   "source": [
    "compiler.Compiler().compile(\n",
    "    pipeline_func=pipeline, package_path=\"custom_train_pipeline.json\"\n",
    ")"
   ]
  },
  {
   "cell_type": "code",
   "execution_count": 6,
   "id": "b812e89a-d604-48fb-b1f5-4d21260b1e20",
   "metadata": {
    "tags": []
   },
   "outputs": [],
   "source": [
    "TIMESTAMP = datetime.now().strftime(\"%Y%m%d%H%M%S\")\n",
    "\n",
    "pipeline_job = aiplatform.PipelineJob(\n",
    "    display_name=\"custom-train-pipeline\",\n",
    "    template_path=\"custom_train_pipeline.json\",\n",
    "    job_id=\"custom-train-pipeline-{0}\".format(TIMESTAMP),\n",
    "    parameter_values={\n",
    "        \"project\": PROJECT_ID,\n",
    "        \"bucket\": BUCKET_URI,\n",
    "        \"bq_dest\": \"bq://{0}\".format(PROJECT_ID),\n",
    "        \"container_uri\": \"gcr.io/{0}/scikit:v1\".format(PROJECT_ID),\n",
    "        \"batch_destination\": \"{0}/batchpredresults\".format(BUCKET_URI),\n",
    "        \"gcp_region\":REGION\n",
    "    },\n",
    "    enable_caching=True,\n",
    ")"
   ]
  },
  {
   "cell_type": "code",
   "execution_count": 7,
   "id": "e8e91ff1-d96c-485d-b4d7-9edd0fbabab8",
   "metadata": {
    "tags": []
   },
   "outputs": [
    {
     "name": "stdout",
     "output_type": "stream",
     "text": [
      "Creating PipelineJob\n",
      "PipelineJob created. Resource name: projects/435046587974/locations/us-central1/pipelineJobs/custom-train-pipeline-20231122170729\n",
      "To use this PipelineJob in another session:\n",
      "pipeline_job = aiplatform.PipelineJob.get('projects/435046587974/locations/us-central1/pipelineJobs/custom-train-pipeline-20231122170729')\n",
      "View Pipeline Job:\n",
      "https://console.cloud.google.com/vertex-ai/locations/us-central1/pipelines/runs/custom-train-pipeline-20231122170729?project=435046587974\n"
     ]
    }
   ],
   "source": [
    "pipeline_job.submit()"
   ]
  },
  {
   "cell_type": "code",
   "execution_count": null,
   "id": "7d4c6e8b-f13a-4fb9-9128-39b47f4f47c8",
   "metadata": {},
   "outputs": [],
   "source": []
  }
 ],
 "metadata": {
  "environment": {
   "kernel": "python3",
   "name": "tf2-gpu.2-13.m113",
   "type": "gcloud",
   "uri": "gcr.io/deeplearning-platform-release/tf2-gpu.2-13:m113"
  },
  "kernelspec": {
   "display_name": "Python 3",
   "language": "python",
   "name": "python3"
  },
  "language_info": {
   "codemirror_mode": {
    "name": "ipython",
    "version": 3
   },
   "file_extension": ".py",
   "mimetype": "text/x-python",
   "name": "python",
   "nbconvert_exporter": "python",
   "pygments_lexer": "ipython3",
   "version": "3.10.13"
  }
 },
 "nbformat": 4,
 "nbformat_minor": 5
}
