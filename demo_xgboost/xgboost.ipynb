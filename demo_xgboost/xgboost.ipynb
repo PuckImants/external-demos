{
 "cells": [
  {
   "cell_type": "markdown",
   "id": "2bed54d6-cfd3-4715-9344-4140b8a5875b",
   "metadata": {},
   "source": [
    "## Imports"
   ]
  },
  {
   "cell_type": "code",
   "execution_count": null,
   "id": "5d505d8a-2c22-4279-b401-20866d945316",
   "metadata": {
    "tags": []
   },
   "outputs": [],
   "source": [
    "!pip install xgboost"
   ]
  },
  {
   "cell_type": "code",
   "execution_count": null,
   "id": "763b37fc-0ea7-4311-b48c-b2b11a0264cb",
   "metadata": {
    "tags": []
   },
   "outputs": [],
   "source": [
    "import pandas as pd\n",
    "import xgboost as xgb\n",
    "import numpy as np\n",
    "import collections\n",
    "\n",
    "from sklearn.model_selection import train_test_split\n",
    "from sklearn.metrics import accuracy_score, confusion_matrix\n",
    "from sklearn.utils import shuffle\n",
    "\n",
    "from google.cloud import aiplatform"
   ]
  },
  {
   "cell_type": "code",
   "execution_count": null,
   "id": "3db231f6-227b-4cca-bd82-15f60eb7b841",
   "metadata": {
    "tags": []
   },
   "outputs": [],
   "source": [
    "GCP_PROJECT = 'dt-tu-sandbox-dev'\n",
    "VERSION_NAME = 'v1'\n",
    "MODEL_NAME = 'mortgage_approval_xgboost'\n",
    "REGION = \"europe-west2\""
   ]
  },
  {
   "cell_type": "code",
   "execution_count": null,
   "id": "161f4688-5ccb-413c-8b09-613d56efcf2b",
   "metadata": {
    "tags": []
   },
   "outputs": [],
   "source": [
    "aiplatform.init(project=GCP_PROJECT, location=REGION)"
   ]
  },
  {
   "cell_type": "markdown",
   "id": "a1dde157-1704-4910-a690-f398adff68b8",
   "metadata": {},
   "source": [
    "# Training the Model"
   ]
  },
  {
   "cell_type": "markdown",
   "id": "1ca16273-dedd-4237-a16e-ed9a90f12100",
   "metadata": {},
   "source": [
    "## Download Data"
   ]
  },
  {
   "cell_type": "code",
   "execution_count": null,
   "id": "f6665bfa-5558-4417-82af-86876f3defd1",
   "metadata": {
    "tags": []
   },
   "outputs": [],
   "source": [
    "!gsutil cp 'gs://mortgage_dataset_files/mortgage-small.csv' ."
   ]
  },
  {
   "cell_type": "markdown",
   "id": "b8fcfb33-1d91-4f91-8e96-2f2769d3c9f1",
   "metadata": {},
   "source": [
    "## Load Data"
   ]
  },
  {
   "cell_type": "code",
   "execution_count": null,
   "id": "ebd7b516-d203-4a1a-b681-9280efb18c7c",
   "metadata": {
    "tags": []
   },
   "outputs": [],
   "source": [
    "COLUMN_NAMES = collections.OrderedDict({\n",
    " 'as_of_year': np.int16,\n",
    " 'agency_code': 'category',\n",
    " 'loan_type': 'category',\n",
    " 'property_type': 'category',\n",
    " 'loan_purpose': 'category',\n",
    " 'occupancy': np.int8,\n",
    " 'loan_amt_thousands': np.float64,\n",
    " 'preapproval': 'category',\n",
    " 'county_code': np.float64,\n",
    " 'applicant_income_thousands': np.float64,\n",
    " 'purchaser_type': 'category',\n",
    " 'hoepa_status': 'category',\n",
    " 'lien_status': 'category',\n",
    " 'population': np.float64,\n",
    " 'ffiec_median_fam_income': np.float64,\n",
    " 'tract_to_msa_income_pct': np.float64,\n",
    " 'num_owner_occupied_units': np.float64,\n",
    " 'num_1_to_4_family_units': np.float64,\n",
    " 'approved': np.int8\n",
    "})"
   ]
  },
  {
   "cell_type": "code",
   "execution_count": null,
   "id": "c7021ba1-216b-4ae5-b71e-62d96a32367f",
   "metadata": {
    "tags": []
   },
   "outputs": [],
   "source": [
    "data = pd.read_csv(\n",
    " 'mortgage-small.csv',\n",
    " index_col=False,\n",
    " dtype=COLUMN_NAMES\n",
    ")\n",
    "data = data.dropna()\n",
    "data = shuffle(data, random_state=2)\n",
    "data.head(2)"
   ]
  },
  {
   "cell_type": "markdown",
   "id": "e4aafb4f-a691-4f15-8bda-31fed82065f9",
   "metadata": {},
   "source": [
    "## Data Validation"
   ]
  },
  {
   "cell_type": "code",
   "execution_count": null,
   "id": "54e9f910-68b5-41d5-ac3e-59f0222e03c1",
   "metadata": {
    "tags": []
   },
   "outputs": [],
   "source": [
    "# Class labels - 0: denied, 1: approved\n",
    "print(data['approved'].value_counts())\n",
    "\n",
    "labels = data['approved'].values\n",
    "data = data.drop(columns=['approved'])"
   ]
  },
  {
   "cell_type": "markdown",
   "id": "ffd6b6eb-2a94-4df7-afc8-5f7461a76522",
   "metadata": {},
   "source": [
    "## Feature Engineering"
   ]
  },
  {
   "cell_type": "code",
   "execution_count": null,
   "id": "13055c33-9bfd-429e-abee-544b9e9c42ca",
   "metadata": {
    "tags": []
   },
   "outputs": [],
   "source": [
    "dummy_columns = list(data.dtypes[data.dtypes == 'category'].index)\n",
    "data = pd.get_dummies(data, columns=dummy_columns)\n",
    "\n",
    "data.head(2)"
   ]
  },
  {
   "cell_type": "markdown",
   "id": "f232f23f-3bbd-4c84-b75f-1b436197258d",
   "metadata": {},
   "source": [
    "## Train-Test Split"
   ]
  },
  {
   "cell_type": "code",
   "execution_count": null,
   "id": "bf4f7606-f8df-4b68-9121-75dda970f10e",
   "metadata": {
    "tags": []
   },
   "outputs": [],
   "source": [
    "x,y = data.values,labels\n",
    "x_train,x_test,y_train,y_test = train_test_split(x,y)"
   ]
  },
  {
   "cell_type": "markdown",
   "id": "9c0b178c-65d4-4d6a-928a-cfc7a0dbccb7",
   "metadata": {},
   "source": [
    "## Modelling"
   ]
  },
  {
   "cell_type": "code",
   "execution_count": null,
   "id": "a383d777-e639-4107-8361-98914b5f7901",
   "metadata": {
    "tags": []
   },
   "outputs": [],
   "source": [
    "model = xgb.XGBClassifier(\n",
    "    objective='reg:logistic'\n",
    ")"
   ]
  },
  {
   "cell_type": "code",
   "execution_count": null,
   "id": "0d4210dd-d8ea-4b80-aaff-644c5c9d8bce",
   "metadata": {
    "tags": []
   },
   "outputs": [],
   "source": [
    "model.fit(x_train, y_train)"
   ]
  },
  {
   "cell_type": "markdown",
   "id": "41542199-c748-412c-a2e6-f55db7fdea23",
   "metadata": {},
   "source": [
    "## Evaluation"
   ]
  },
  {
   "cell_type": "code",
   "execution_count": null,
   "id": "d5c5da14-6dc9-4c93-adec-782e08f08c54",
   "metadata": {
    "tags": []
   },
   "outputs": [],
   "source": [
    "y_pred = model.predict(x_test)\n",
    "acc = accuracy_score(y_test, y_pred.round())\n",
    "print(acc, '\\n')"
   ]
  },
  {
   "cell_type": "markdown",
   "id": "01908234-2c8a-4b27-916b-1de0d918a7b3",
   "metadata": {},
   "source": [
    "## Save Model"
   ]
  },
  {
   "cell_type": "code",
   "execution_count": null,
   "id": "aa8f0aae-701e-45ba-a4de-3c1d0f809ef1",
   "metadata": {
    "tags": []
   },
   "outputs": [],
   "source": [
    "model.save_model('model.bst')"
   ]
  },
  {
   "cell_type": "markdown",
   "id": "ae835bed-7b01-446f-9d44-b48e605af62e",
   "metadata": {},
   "source": [
    "# Deploy the model to Vertex Endpoints"
   ]
  },
  {
   "cell_type": "code",
   "execution_count": null,
   "id": "af75cde7-52dc-42a6-8198-e4ac9ec1e7dc",
   "metadata": {
    "tags": []
   },
   "outputs": [],
   "source": [
    "model = aiplatform.Model.upload_xgboost_model_file(\n",
    "    display_name = MODEL_NAME,\n",
    "    model_file_path=\"./model.bst\",\n",
    "    sync=True\n",
    ")\n",
    "\n",
    "print(model)"
   ]
  },
  {
   "cell_type": "code",
   "execution_count": null,
   "id": "dbd70ac1-3948-4cc7-afe8-972a532f0e09",
   "metadata": {
    "tags": []
   },
   "outputs": [],
   "source": [
    "endpoint = model.deploy()"
   ]
  },
  {
   "cell_type": "code",
   "execution_count": null,
   "id": "3c851cc9-3923-4907-a2f1-f37bf06cd54b",
   "metadata": {
    "tags": []
   },
   "outputs": [],
   "source": [
    "example_input = [\n",
    "    [2016.0, 1.0, 346.0, 27.0, 211.0, 4530.0, 86700.0, 132.13, 1289.0, 1408.0, 0.0, 0.0, 0.0, 0.0, 1.0, 0.0, 1.0, 0.0, 0.0, 0.0, 0.0, 1.0, 0.0, 1.0, 0.0, 1.0, 0.0, 0.0, 0.0, 1.0, 0.0, 0.0, 0.0, 0.0, 0.0, 0.0, 0.0, 0.0, 0.0, 1.0, 0.0, 0.0, 1.0, 0.0]\n",
    "  ]"
   ]
  },
  {
   "cell_type": "code",
   "execution_count": null,
   "id": "92ca921e-3383-4816-94ff-08f945cc2cfe",
   "metadata": {
    "tags": []
   },
   "outputs": [],
   "source": [
    "endpoint.predict(example_input)"
   ]
  },
  {
   "cell_type": "markdown",
   "id": "f24d7831-bf9c-4f85-ad95-da20490710a8",
   "metadata": {
    "tags": []
   },
   "source": [
    "endpoint.delete(force=True)\n",
    "model.delete()"
   ]
  }
 ],
 "metadata": {
  "environment": {
   "kernel": "python3",
   "name": "tf2-gpu.2-13.m113",
   "type": "gcloud",
   "uri": "gcr.io/deeplearning-platform-release/tf2-gpu.2-13:m113"
  },
  "kernelspec": {
   "display_name": "Python 3",
   "language": "python",
   "name": "python3"
  },
  "language_info": {
   "codemirror_mode": {
    "name": "ipython",
    "version": 3
   },
   "file_extension": ".py",
   "mimetype": "text/x-python",
   "name": "python",
   "nbconvert_exporter": "python",
   "pygments_lexer": "ipython3",
   "version": "3.10.13"
  }
 },
 "nbformat": 4,
 "nbformat_minor": 5
}
