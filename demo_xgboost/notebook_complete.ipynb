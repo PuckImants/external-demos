{
 "cells": [
  {
   "cell_type": "markdown",
   "id": "2bed54d6-cfd3-4715-9344-4140b8a5875b",
   "metadata": {},
   "source": [
    "## Imports"
   ]
  },
  {
   "cell_type": "code",
   "execution_count": 35,
   "id": "763b37fc-0ea7-4311-b48c-b2b11a0264cb",
   "metadata": {
    "tags": []
   },
   "outputs": [],
   "source": [
    "import pandas as pd\n",
    "import xgboost as xgb\n",
    "import numpy as np\n",
    "import collections\n",
    "\n",
    "from sklearn.model_selection import train_test_split\n",
    "from sklearn.metrics import accuracy_score, confusion_matrix\n",
    "from sklearn.utils import shuffle\n",
    "\n",
    "from google.cloud import aiplatform"
   ]
  },
  {
   "cell_type": "code",
   "execution_count": 37,
   "id": "3db231f6-227b-4cca-bd82-15f60eb7b841",
   "metadata": {
    "tags": []
   },
   "outputs": [],
   "source": [
    "GCP_PROJECT = 'dt-tu-sandbox-dev'\n",
    "MODEL_BUCKET = 'gs://ovo-xgboost-demo'\n",
    "VERSION_NAME = 'v1'\n",
    "MODEL_NAME = 'mortgage_approval_xgboost'\n",
    "REGION = \"europe-west2\""
   ]
  },
  {
   "cell_type": "code",
   "execution_count": 40,
   "id": "161f4688-5ccb-413c-8b09-613d56efcf2b",
   "metadata": {
    "tags": []
   },
   "outputs": [],
   "source": [
    "aiplatform.init(project=GCP_PROJECT, location=REGION)"
   ]
  },
  {
   "cell_type": "markdown",
   "id": "a1dde157-1704-4910-a690-f398adff68b8",
   "metadata": {},
   "source": [
    "# Training the Model"
   ]
  },
  {
   "cell_type": "markdown",
   "id": "1ca16273-dedd-4237-a16e-ed9a90f12100",
   "metadata": {},
   "source": [
    "## Download Data"
   ]
  },
  {
   "cell_type": "code",
   "execution_count": 3,
   "id": "f6665bfa-5558-4417-82af-86876f3defd1",
   "metadata": {
    "tags": []
   },
   "outputs": [
    {
     "name": "stdout",
     "output_type": "stream",
     "text": [
      "Copying gs://mortgage_dataset_files/mortgage-small.csv...\n",
      "- [1 files][330.8 MiB/330.8 MiB]                                                \n",
      "Operation completed over 1 objects/330.8 MiB.                                    \n"
     ]
    }
   ],
   "source": [
    "!gsutil cp 'gs://mortgage_dataset_files/mortgage-small.csv' ."
   ]
  },
  {
   "cell_type": "markdown",
   "id": "b8fcfb33-1d91-4f91-8e96-2f2769d3c9f1",
   "metadata": {},
   "source": [
    "## Load Data"
   ]
  },
  {
   "cell_type": "code",
   "execution_count": 11,
   "id": "ebd7b516-d203-4a1a-b681-9280efb18c7c",
   "metadata": {
    "tags": []
   },
   "outputs": [],
   "source": [
    "COLUMN_NAMES = collections.OrderedDict({\n",
    " 'as_of_year': np.int16,\n",
    " 'agency_code': 'category',\n",
    " 'loan_type': 'category',\n",
    " 'property_type': 'category',\n",
    " 'loan_purpose': 'category',\n",
    " 'occupancy': np.int8,\n",
    " 'loan_amt_thousands': np.float64,\n",
    " 'preapproval': 'category',\n",
    " 'county_code': np.float64,\n",
    " 'applicant_income_thousands': np.float64,\n",
    " 'purchaser_type': 'category',\n",
    " 'hoepa_status': 'category',\n",
    " 'lien_status': 'category',\n",
    " 'population': np.float64,\n",
    " 'ffiec_median_fam_income': np.float64,\n",
    " 'tract_to_msa_income_pct': np.float64,\n",
    " 'num_owner_occupied_units': np.float64,\n",
    " 'num_1_to_4_family_units': np.float64,\n",
    " 'approved': np.int8\n",
    "})"
   ]
  },
  {
   "cell_type": "code",
   "execution_count": 12,
   "id": "c7021ba1-216b-4ae5-b71e-62d96a32367f",
   "metadata": {
    "tags": []
   },
   "outputs": [
    {
     "data": {
      "text/html": [
       "<div>\n",
       "<style scoped>\n",
       "    .dataframe tbody tr th:only-of-type {\n",
       "        vertical-align: middle;\n",
       "    }\n",
       "\n",
       "    .dataframe tbody tr th {\n",
       "        vertical-align: top;\n",
       "    }\n",
       "\n",
       "    .dataframe thead th {\n",
       "        text-align: right;\n",
       "    }\n",
       "</style>\n",
       "<table border=\"1\" class=\"dataframe\">\n",
       "  <thead>\n",
       "    <tr style=\"text-align: right;\">\n",
       "      <th></th>\n",
       "      <th>as_of_year</th>\n",
       "      <th>agency_code</th>\n",
       "      <th>loan_type</th>\n",
       "      <th>property_type</th>\n",
       "      <th>loan_purpose</th>\n",
       "      <th>occupancy</th>\n",
       "      <th>loan_amt_thousands</th>\n",
       "      <th>preapproval</th>\n",
       "      <th>county_code</th>\n",
       "      <th>applicant_income_thousands</th>\n",
       "      <th>purchaser_type</th>\n",
       "      <th>hoepa_status</th>\n",
       "      <th>lien_status</th>\n",
       "      <th>population</th>\n",
       "      <th>ffiec_median_fam_income</th>\n",
       "      <th>tract_to_msa_income_pct</th>\n",
       "      <th>num_owner_occupied_units</th>\n",
       "      <th>num_1_to_4_family_units</th>\n",
       "      <th>approved</th>\n",
       "    </tr>\n",
       "  </thead>\n",
       "  <tbody>\n",
       "    <tr>\n",
       "      <th>310650</th>\n",
       "      <td>2016</td>\n",
       "      <td>Consumer Financial Protection Bureau (CFPB)</td>\n",
       "      <td>Conventional (any loan other than FHA, VA, FSA...</td>\n",
       "      <td>One to four-family (other than manufactured ho...</td>\n",
       "      <td>Refinancing</td>\n",
       "      <td>1</td>\n",
       "      <td>110.0</td>\n",
       "      <td>Not applicable</td>\n",
       "      <td>119.0</td>\n",
       "      <td>55.0</td>\n",
       "      <td>Freddie Mac (FHLMC)</td>\n",
       "      <td>Not a HOEPA loan</td>\n",
       "      <td>Secured by a first lien</td>\n",
       "      <td>5930.0</td>\n",
       "      <td>64100.0</td>\n",
       "      <td>98.81</td>\n",
       "      <td>1305.0</td>\n",
       "      <td>1631.0</td>\n",
       "      <td>1</td>\n",
       "    </tr>\n",
       "    <tr>\n",
       "      <th>630129</th>\n",
       "      <td>2016</td>\n",
       "      <td>Department of Housing and Urban Development (HUD)</td>\n",
       "      <td>Conventional (any loan other than FHA, VA, FSA...</td>\n",
       "      <td>One to four-family (other than manufactured ho...</td>\n",
       "      <td>Home purchase</td>\n",
       "      <td>1</td>\n",
       "      <td>480.0</td>\n",
       "      <td>Not applicable</td>\n",
       "      <td>33.0</td>\n",
       "      <td>270.0</td>\n",
       "      <td>Loan was not originated or was not sold in cal...</td>\n",
       "      <td>Not a HOEPA loan</td>\n",
       "      <td>Secured by a first lien</td>\n",
       "      <td>4791.0</td>\n",
       "      <td>90300.0</td>\n",
       "      <td>144.06</td>\n",
       "      <td>1420.0</td>\n",
       "      <td>1450.0</td>\n",
       "      <td>0</td>\n",
       "    </tr>\n",
       "  </tbody>\n",
       "</table>\n",
       "</div>"
      ],
      "text/plain": [
       "        as_of_year                                        agency_code  \\\n",
       "310650        2016        Consumer Financial Protection Bureau (CFPB)   \n",
       "630129        2016  Department of Housing and Urban Development (HUD)   \n",
       "\n",
       "                                                loan_type  \\\n",
       "310650  Conventional (any loan other than FHA, VA, FSA...   \n",
       "630129  Conventional (any loan other than FHA, VA, FSA...   \n",
       "\n",
       "                                            property_type   loan_purpose  \\\n",
       "310650  One to four-family (other than manufactured ho...    Refinancing   \n",
       "630129  One to four-family (other than manufactured ho...  Home purchase   \n",
       "\n",
       "        occupancy  loan_amt_thousands     preapproval  county_code  \\\n",
       "310650          1               110.0  Not applicable        119.0   \n",
       "630129          1               480.0  Not applicable         33.0   \n",
       "\n",
       "        applicant_income_thousands  \\\n",
       "310650                        55.0   \n",
       "630129                       270.0   \n",
       "\n",
       "                                           purchaser_type      hoepa_status  \\\n",
       "310650                                Freddie Mac (FHLMC)  Not a HOEPA loan   \n",
       "630129  Loan was not originated or was not sold in cal...  Not a HOEPA loan   \n",
       "\n",
       "                    lien_status  population  ffiec_median_fam_income  \\\n",
       "310650  Secured by a first lien      5930.0                  64100.0   \n",
       "630129  Secured by a first lien      4791.0                  90300.0   \n",
       "\n",
       "        tract_to_msa_income_pct  num_owner_occupied_units  \\\n",
       "310650                    98.81                    1305.0   \n",
       "630129                   144.06                    1420.0   \n",
       "\n",
       "        num_1_to_4_family_units  approved  \n",
       "310650                   1631.0         1  \n",
       "630129                   1450.0         0  "
      ]
     },
     "execution_count": 12,
     "metadata": {},
     "output_type": "execute_result"
    }
   ],
   "source": [
    "data = pd.read_csv(\n",
    " 'mortgage-small.csv',\n",
    " index_col=False,\n",
    " dtype=COLUMN_NAMES\n",
    ")\n",
    "data = data.dropna()\n",
    "data = shuffle(data, random_state=2)\n",
    "data.head(2)"
   ]
  },
  {
   "cell_type": "markdown",
   "id": "e4aafb4f-a691-4f15-8bda-31fed82065f9",
   "metadata": {},
   "source": [
    "## Data Validation"
   ]
  },
  {
   "cell_type": "code",
   "execution_count": 13,
   "id": "54e9f910-68b5-41d5-ac3e-59f0222e03c1",
   "metadata": {
    "tags": []
   },
   "outputs": [
    {
     "name": "stdout",
     "output_type": "stream",
     "text": [
      "approved\n",
      "1    665389\n",
      "0    334610\n",
      "Name: count, dtype: int64\n"
     ]
    }
   ],
   "source": [
    "# Class labels - 0: denied, 1: approved\n",
    "print(data['approved'].value_counts())\n",
    "\n",
    "labels = data['approved'].values\n",
    "data = data.drop(columns=['approved'])"
   ]
  },
  {
   "cell_type": "markdown",
   "id": "ffd6b6eb-2a94-4df7-afc8-5f7461a76522",
   "metadata": {},
   "source": [
    "## Feature Engineering"
   ]
  },
  {
   "cell_type": "code",
   "execution_count": 14,
   "id": "13055c33-9bfd-429e-abee-544b9e9c42ca",
   "metadata": {
    "tags": []
   },
   "outputs": [
    {
     "data": {
      "text/html": [
       "<div>\n",
       "<style scoped>\n",
       "    .dataframe tbody tr th:only-of-type {\n",
       "        vertical-align: middle;\n",
       "    }\n",
       "\n",
       "    .dataframe tbody tr th {\n",
       "        vertical-align: top;\n",
       "    }\n",
       "\n",
       "    .dataframe thead th {\n",
       "        text-align: right;\n",
       "    }\n",
       "</style>\n",
       "<table border=\"1\" class=\"dataframe\">\n",
       "  <thead>\n",
       "    <tr style=\"text-align: right;\">\n",
       "      <th></th>\n",
       "      <th>as_of_year</th>\n",
       "      <th>occupancy</th>\n",
       "      <th>loan_amt_thousands</th>\n",
       "      <th>county_code</th>\n",
       "      <th>applicant_income_thousands</th>\n",
       "      <th>population</th>\n",
       "      <th>ffiec_median_fam_income</th>\n",
       "      <th>tract_to_msa_income_pct</th>\n",
       "      <th>num_owner_occupied_units</th>\n",
       "      <th>num_1_to_4_family_units</th>\n",
       "      <th>...</th>\n",
       "      <th>purchaser_type_Life insurance company, credit union, mortgage bank, or finance company</th>\n",
       "      <th>purchaser_type_Loan was not originated or was not sold in calendar year covered by register</th>\n",
       "      <th>purchaser_type_Other type of purchaser</th>\n",
       "      <th>purchaser_type_Private securitization</th>\n",
       "      <th>hoepa_status_HOEPA loan</th>\n",
       "      <th>hoepa_status_Not a HOEPA loan</th>\n",
       "      <th>lien_status_Not applicable (purchased loans)</th>\n",
       "      <th>lien_status_Not secured by a lien</th>\n",
       "      <th>lien_status_Secured by a first lien</th>\n",
       "      <th>lien_status_Secured by a subordinate lien</th>\n",
       "    </tr>\n",
       "  </thead>\n",
       "  <tbody>\n",
       "    <tr>\n",
       "      <th>310650</th>\n",
       "      <td>2016</td>\n",
       "      <td>1</td>\n",
       "      <td>110.0</td>\n",
       "      <td>119.0</td>\n",
       "      <td>55.0</td>\n",
       "      <td>5930.0</td>\n",
       "      <td>64100.0</td>\n",
       "      <td>98.81</td>\n",
       "      <td>1305.0</td>\n",
       "      <td>1631.0</td>\n",
       "      <td>...</td>\n",
       "      <td>False</td>\n",
       "      <td>False</td>\n",
       "      <td>False</td>\n",
       "      <td>False</td>\n",
       "      <td>False</td>\n",
       "      <td>True</td>\n",
       "      <td>False</td>\n",
       "      <td>False</td>\n",
       "      <td>True</td>\n",
       "      <td>False</td>\n",
       "    </tr>\n",
       "    <tr>\n",
       "      <th>630129</th>\n",
       "      <td>2016</td>\n",
       "      <td>1</td>\n",
       "      <td>480.0</td>\n",
       "      <td>33.0</td>\n",
       "      <td>270.0</td>\n",
       "      <td>4791.0</td>\n",
       "      <td>90300.0</td>\n",
       "      <td>144.06</td>\n",
       "      <td>1420.0</td>\n",
       "      <td>1450.0</td>\n",
       "      <td>...</td>\n",
       "      <td>False</td>\n",
       "      <td>True</td>\n",
       "      <td>False</td>\n",
       "      <td>False</td>\n",
       "      <td>False</td>\n",
       "      <td>True</td>\n",
       "      <td>False</td>\n",
       "      <td>False</td>\n",
       "      <td>True</td>\n",
       "      <td>False</td>\n",
       "    </tr>\n",
       "  </tbody>\n",
       "</table>\n",
       "<p>2 rows × 44 columns</p>\n",
       "</div>"
      ],
      "text/plain": [
       "        as_of_year  occupancy  loan_amt_thousands  county_code  \\\n",
       "310650        2016          1               110.0        119.0   \n",
       "630129        2016          1               480.0         33.0   \n",
       "\n",
       "        applicant_income_thousands  population  ffiec_median_fam_income  \\\n",
       "310650                        55.0      5930.0                  64100.0   \n",
       "630129                       270.0      4791.0                  90300.0   \n",
       "\n",
       "        tract_to_msa_income_pct  num_owner_occupied_units  \\\n",
       "310650                    98.81                    1305.0   \n",
       "630129                   144.06                    1420.0   \n",
       "\n",
       "        num_1_to_4_family_units  ...  \\\n",
       "310650                   1631.0  ...   \n",
       "630129                   1450.0  ...   \n",
       "\n",
       "        purchaser_type_Life insurance company, credit union, mortgage bank, or finance company  \\\n",
       "310650                                              False                                        \n",
       "630129                                              False                                        \n",
       "\n",
       "        purchaser_type_Loan was not originated or was not sold in calendar year covered by register  \\\n",
       "310650                                              False                                             \n",
       "630129                                               True                                             \n",
       "\n",
       "        purchaser_type_Other type of purchaser  \\\n",
       "310650                                   False   \n",
       "630129                                   False   \n",
       "\n",
       "        purchaser_type_Private securitization  hoepa_status_HOEPA loan  \\\n",
       "310650                                  False                    False   \n",
       "630129                                  False                    False   \n",
       "\n",
       "        hoepa_status_Not a HOEPA loan  \\\n",
       "310650                           True   \n",
       "630129                           True   \n",
       "\n",
       "        lien_status_Not applicable (purchased loans)  \\\n",
       "310650                                         False   \n",
       "630129                                         False   \n",
       "\n",
       "        lien_status_Not secured by a lien  \\\n",
       "310650                              False   \n",
       "630129                              False   \n",
       "\n",
       "        lien_status_Secured by a first lien  \\\n",
       "310650                                 True   \n",
       "630129                                 True   \n",
       "\n",
       "        lien_status_Secured by a subordinate lien  \n",
       "310650                                      False  \n",
       "630129                                      False  \n",
       "\n",
       "[2 rows x 44 columns]"
      ]
     },
     "execution_count": 14,
     "metadata": {},
     "output_type": "execute_result"
    }
   ],
   "source": [
    "dummy_columns = list(data.dtypes[data.dtypes == 'category'].index)\n",
    "data = pd.get_dummies(data, columns=dummy_columns)\n",
    "\n",
    "data.head(2)"
   ]
  },
  {
   "cell_type": "markdown",
   "id": "f232f23f-3bbd-4c84-b75f-1b436197258d",
   "metadata": {},
   "source": [
    "## Train-Test Split"
   ]
  },
  {
   "cell_type": "code",
   "execution_count": 15,
   "id": "bf4f7606-f8df-4b68-9121-75dda970f10e",
   "metadata": {
    "tags": []
   },
   "outputs": [],
   "source": [
    "x,y = data.values,labels\n",
    "x_train,x_test,y_train,y_test = train_test_split(x,y)"
   ]
  },
  {
   "cell_type": "markdown",
   "id": "9c0b178c-65d4-4d6a-928a-cfc7a0dbccb7",
   "metadata": {},
   "source": [
    "## Modelling"
   ]
  },
  {
   "cell_type": "code",
   "execution_count": 16,
   "id": "a383d777-e639-4107-8361-98914b5f7901",
   "metadata": {
    "tags": []
   },
   "outputs": [],
   "source": [
    "model = xgb.XGBClassifier(\n",
    "    objective='reg:logistic'\n",
    ")"
   ]
  },
  {
   "cell_type": "code",
   "execution_count": 17,
   "id": "0d4210dd-d8ea-4b80-aaff-644c5c9d8bce",
   "metadata": {
    "tags": []
   },
   "outputs": [
    {
     "data": {
      "text/plain": [
       "XGBClassifier(base_score=None, booster=None, callbacks=None,\n",
       "              colsample_bylevel=None, colsample_bynode=None,\n",
       "              colsample_bytree=None, device=None, early_stopping_rounds=None,\n",
       "              enable_categorical=False, eval_metric=None, feature_types=None,\n",
       "              gamma=None, grow_policy=None, importance_type=None,\n",
       "              interaction_constraints=None, learning_rate=None, max_bin=None,\n",
       "              max_cat_threshold=None, max_cat_to_onehot=None,\n",
       "              max_delta_step=None, max_depth=None, max_leaves=None,\n",
       "              min_child_weight=None, missing=nan, monotone_constraints=None,\n",
       "              multi_strategy=None, n_estimators=None, n_jobs=None,\n",
       "              num_parallel_tree=None, objective='reg:logistic', ...)"
      ]
     },
     "execution_count": 17,
     "metadata": {},
     "output_type": "execute_result"
    }
   ],
   "source": [
    "model.fit(x_train, y_train)"
   ]
  },
  {
   "cell_type": "markdown",
   "id": "41542199-c748-412c-a2e6-f55db7fdea23",
   "metadata": {},
   "source": [
    "## Evaluation"
   ]
  },
  {
   "cell_type": "code",
   "execution_count": 18,
   "id": "d5c5da14-6dc9-4c93-adec-782e08f08c54",
   "metadata": {
    "tags": []
   },
   "outputs": [
    {
     "name": "stdout",
     "output_type": "stream",
     "text": [
      "0.873904 \n",
      "\n"
     ]
    }
   ],
   "source": [
    "y_pred = model.predict(x_test)\n",
    "acc = accuracy_score(y_test, y_pred.round())\n",
    "print(acc, '\\n')"
   ]
  },
  {
   "cell_type": "markdown",
   "id": "01908234-2c8a-4b27-916b-1de0d918a7b3",
   "metadata": {},
   "source": [
    "## Save Model"
   ]
  },
  {
   "cell_type": "code",
   "execution_count": 19,
   "id": "aa8f0aae-701e-45ba-a4de-3c1d0f809ef1",
   "metadata": {
    "tags": []
   },
   "outputs": [
    {
     "name": "stderr",
     "output_type": "stream",
     "text": [
      "[11:21:07] WARNING: /workspace/src/c_api/c_api.cc:1240: Saving into deprecated binary model format, please consider using `json` or `ubj`. Model format will default to JSON in XGBoost 2.2 if not specified.\n"
     ]
    }
   ],
   "source": [
    "model.save_model('model.bst')"
   ]
  },
  {
   "cell_type": "markdown",
   "id": "ae835bed-7b01-446f-9d44-b48e605af62e",
   "metadata": {},
   "source": [
    "# Deploy the model to Vertex Endpoints"
   ]
  },
  {
   "cell_type": "code",
   "execution_count": 41,
   "id": "f309e538-89a4-42e5-8069-37eec0cbdd8a",
   "metadata": {
    "tags": []
   },
   "outputs": [],
   "source": [
    "PRE_BUILT_IMAGE = \"europe-docker.pkg.dev/vertex-ai/training/xgboost-cpu.1-6:latest\""
   ]
  },
  {
   "cell_type": "code",
   "execution_count": 48,
   "id": "af75cde7-52dc-42a6-8198-e4ac9ec1e7dc",
   "metadata": {
    "tags": []
   },
   "outputs": [
    {
     "name": "stdout",
     "output_type": "stream",
     "text": [
      "Creating Model\n",
      "Create Model backing LRO: projects/435046587974/locations/europe-west2/models/5716660019970179072/operations/1834784740083761152\n",
      "Model created. Resource name: projects/435046587974/locations/europe-west2/models/5716660019970179072@1\n",
      "To use this Model in another session:\n",
      "model = aiplatform.Model('projects/435046587974/locations/europe-west2/models/5716660019970179072@1')\n",
      "<google.cloud.aiplatform.models.Model object at 0x7fc5bfbb16f0> \n",
      "resource name: projects/435046587974/locations/europe-west2/models/5716660019970179072\n"
     ]
    }
   ],
   "source": [
    "model = aiplatform.Model.upload_xgboost_model_file(\n",
    "    display_name = MODEL_NAME,\n",
    "    model_file_path=\"./model.bst\",\n",
    "    sync=True\n",
    ")\n",
    "\n",
    "print(model)"
   ]
  },
  {
   "cell_type": "code",
   "execution_count": 56,
   "id": "dbd70ac1-3948-4cc7-afe8-972a532f0e09",
   "metadata": {
    "tags": []
   },
   "outputs": [
    {
     "name": "stdout",
     "output_type": "stream",
     "text": [
      "Creating Endpoint\n",
      "Create Endpoint backing LRO: projects/435046587974/locations/europe-west2/endpoints/4554432248945836032/operations/310316266218848256\n",
      "Endpoint created. Resource name: projects/435046587974/locations/europe-west2/endpoints/4554432248945836032\n",
      "To use this Endpoint in another session:\n",
      "endpoint = aiplatform.Endpoint('projects/435046587974/locations/europe-west2/endpoints/4554432248945836032')\n",
      "Deploying model to Endpoint : projects/435046587974/locations/europe-west2/endpoints/4554432248945836032\n",
      "Using default machine_type: n1-standard-2\n",
      "Deploy Endpoint model backing LRO: projects/435046587974/locations/europe-west2/endpoints/4554432248945836032/operations/321575265287274496\n",
      "Endpoint model deployed. Resource name: projects/435046587974/locations/europe-west2/endpoints/4554432248945836032\n"
     ]
    }
   ],
   "source": [
    "endpoint = model.deploy()"
   ]
  },
  {
   "cell_type": "code",
   "execution_count": 57,
   "id": "3c851cc9-3923-4907-a2f1-f37bf06cd54b",
   "metadata": {
    "tags": []
   },
   "outputs": [],
   "source": [
    "example_input = [\n",
    "    [2016.0, 1.0, 346.0, 27.0, 211.0, 4530.0, 86700.0, 132.13, 1289.0, 1408.0, 0.0, 0.0, 0.0, 0.0, 1.0, 0.0, 1.0, 0.0, 0.0, 0.0, 0.0, 1.0, 0.0, 1.0, 0.0, 1.0, 0.0, 0.0, 0.0, 1.0, 0.0, 0.0, 0.0, 0.0, 0.0, 0.0, 0.0, 0.0, 0.0, 1.0, 0.0, 0.0, 1.0, 0.0]\n",
    "  ]"
   ]
  },
  {
   "cell_type": "code",
   "execution_count": 58,
   "id": "92ca921e-3383-4816-94ff-08f945cc2cfe",
   "metadata": {
    "tags": []
   },
   "outputs": [
    {
     "data": {
      "text/plain": [
       "Prediction(predictions=[0.9999957084655762], deployed_model_id='8846890459411251200', model_version_id='1', model_resource_name='projects/435046587974/locations/europe-west2/models/5716660019970179072', explanations=None)"
      ]
     },
     "execution_count": 58,
     "metadata": {},
     "output_type": "execute_result"
    }
   ],
   "source": [
    "endpoint.predict(example_input)"
   ]
  },
  {
   "cell_type": "markdown",
   "id": "f24d7831-bf9c-4f85-ad95-da20490710a8",
   "metadata": {
    "tags": []
   },
   "source": [
    "endpoint.delete(force=True)\n",
    "model.delete()"
   ]
  }
 ],
 "metadata": {
  "environment": {
   "kernel": "python3",
   "name": "tf2-gpu.2-13.m113",
   "type": "gcloud",
   "uri": "gcr.io/deeplearning-platform-release/tf2-gpu.2-13:m113"
  },
  "kernelspec": {
   "display_name": "Python 3",
   "language": "python",
   "name": "python3"
  },
  "language_info": {
   "codemirror_mode": {
    "name": "ipython",
    "version": 3
   },
   "file_extension": ".py",
   "mimetype": "text/x-python",
   "name": "python",
   "nbconvert_exporter": "python",
   "pygments_lexer": "ipython3",
   "version": "3.10.13"
  }
 },
 "nbformat": 4,
 "nbformat_minor": 5
}
