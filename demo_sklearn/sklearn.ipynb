{
 "cells": [
  {
   "cell_type": "markdown",
   "id": "11b63082-bbd9-4bcd-a0a0-097deefba9ff",
   "metadata": {},
   "source": [
    "## 1 - Enviroment Variables"
   ]
  },
  {
   "cell_type": "code",
   "execution_count": null,
   "id": "c4ebda8a-9443-4186-9375-0908501e8601",
   "metadata": {
    "tags": []
   },
   "outputs": [],
   "source": [
    "PROJECT_ID = \"dt-tu-sandbox-dev\"\n",
    "BUCKET_NAME = f\"{PROJECT_ID}-cpr-bucket-eu\"\n",
    "BUCKET_URI = f\"gs://{BUCKET_NAME}\"\n",
    "REGION = \"europe-west2\"\n",
    "\n",
    "MODEL_ARTIFACT_DIR = \"sklearn-model-artifacts\"\n",
    "REPOSITORY = \"diamonds\"\n",
    "IMAGE = \"sklearn-image\"\n",
    "MODEL_DISPLAY_NAME = \"diamonds-cpr\""
   ]
  },
  {
   "cell_type": "markdown",
   "id": "204965f6-6982-4ae2-802d-1966c50c5832",
   "metadata": {},
   "source": [
    "## 2 - CREATE BUCKET"
   ]
  },
  {
   "cell_type": "code",
   "execution_count": null,
   "id": "2ec56385-0ae9-444c-824b-4968e84bb48e",
   "metadata": {
    "tags": []
   },
   "outputs": [],
   "source": [
    "from google.cloud import storage"
   ]
  },
  {
   "cell_type": "code",
   "execution_count": null,
   "id": "fa1c1787-382e-42a9-b758-cbbb0ce1624d",
   "metadata": {
    "tags": []
   },
   "outputs": [],
   "source": [
    "storage_client = storage.Client()"
   ]
  },
  {
   "cell_type": "code",
   "execution_count": null,
   "id": "f1c849cc-8dc8-4943-92e2-a0ad4d272c3f",
   "metadata": {
    "tags": []
   },
   "outputs": [],
   "source": [
    "storage_client.create_bucket(BUCKET_NAME,location=REGION)"
   ]
  },
  {
   "cell_type": "markdown",
   "id": "ac9efed6-22a3-455b-ae24-1470f84496d8",
   "metadata": {},
   "source": [
    "## 3 - Setup Directories"
   ]
  },
  {
   "cell_type": "code",
   "execution_count": null,
   "id": "fc26ad52-1e49-48ab-ac78-f8e784d8eb03",
   "metadata": {
    "tags": []
   },
   "outputs": [],
   "source": [
    "%%writefile requirements.txt\n",
    "fastapi\n",
    "uvicorn==0.17.6\n",
    "joblib~=1.1.1\n",
    "numpy>=1.17.3, <1.24.0\n",
    "scikit-learn~=1.2.0\n",
    "pandas\n",
    "google-cloud-storage>=2.2.1,<3.0.0dev\n",
    "google-cloud-aiplatform[prediction]>=1.18.2"
   ]
  },
  {
   "cell_type": "code",
   "execution_count": null,
   "id": "93eaf478-bb6c-4032-99f7-d0b7c0af4c1f",
   "metadata": {
    "tags": []
   },
   "outputs": [],
   "source": [
    "!pip install -U --user -r requirements.txt"
   ]
  },
  {
   "cell_type": "code",
   "execution_count": null,
   "id": "2a09d63e-23df-4909-8d4c-9f743325ccb2",
   "metadata": {
    "tags": []
   },
   "outputs": [],
   "source": [
    "!mkdir scr_dir"
   ]
  },
  {
   "cell_type": "code",
   "execution_count": null,
   "id": "d4a27e68-2334-45d5-a362-05a0556e7f21",
   "metadata": {
    "tags": []
   },
   "outputs": [],
   "source": [
    "!cp requirements.txt scr_dir/requirements.txt"
   ]
  },
  {
   "cell_type": "markdown",
   "id": "4cb0e494-67dc-4fc6-8f0b-e3882989fd9e",
   "metadata": {},
   "source": [
    "## Training the model!"
   ]
  },
  {
   "cell_type": "code",
   "execution_count": null,
   "id": "a37fc183-e9e0-4a08-ab6d-a10aa008a063",
   "metadata": {
    "tags": []
   },
   "outputs": [],
   "source": [
    "import seaborn as sns\n",
    "import numpy as np\n",
    "import pandas as pd\n",
    "\n",
    "from sklearn import preprocessing\n",
    "from sklearn.ensemble import RandomForestRegressor\n",
    "from sklearn.pipeline import make_pipeline\n",
    "from sklearn.compose import make_column_transformer\n",
    "\n",
    "import joblib\n",
    "import logging\n",
    "\n",
    "# set logging to see the docker container logs\n",
    "logging.basicConfig(level=logging.INFO)"
   ]
  },
  {
   "cell_type": "code",
   "execution_count": null,
   "id": "75813589-4701-4ea5-9cad-9390f29fd1cd",
   "metadata": {
    "tags": []
   },
   "outputs": [],
   "source": [
    "!pip install --upgrade seaborn"
   ]
  },
  {
   "cell_type": "code",
   "execution_count": null,
   "id": "64599085-a21e-46e9-ba67-7759a13c56a5",
   "metadata": {
    "tags": []
   },
   "outputs": [],
   "source": [
    "data = sns.load_dataset('diamonds', cache=True, data_home=None)\n",
    "\n",
    "label = 'price'\n",
    "\n",
    "y_train = data['price']\n",
    "x_train = data.drop(columns=['price'])"
   ]
  },
  {
   "cell_type": "code",
   "execution_count": null,
   "id": "95527d79-c5f2-4970-b6ad-f81d9d93e05b",
   "metadata": {
    "tags": []
   },
   "outputs": [],
   "source": [
    "data.head()"
   ]
  },
  {
   "cell_type": "code",
   "execution_count": null,
   "id": "1a05647f-eba7-4059-8bc2-7e0195dd1d4d",
   "metadata": {
    "tags": []
   },
   "outputs": [],
   "source": [
    "column_transform = make_column_transformer(\n",
    "    (preprocessing.OneHotEncoder(sparse=False), [1,2,3]),\n",
    "    (preprocessing.StandardScaler(), [0,4,5,6,7,8]))"
   ]
  },
  {
   "cell_type": "code",
   "execution_count": null,
   "id": "7848fab1-4fa2-4f34-8e09-bd6da0df740c",
   "metadata": {
    "tags": []
   },
   "outputs": [],
   "source": [
    "regr = RandomForestRegressor(max_depth=10, random_state=0)"
   ]
  },
  {
   "cell_type": "code",
   "execution_count": null,
   "id": "30464c0d-b491-4d48-80b5-fda5d2ad87a8",
   "metadata": {
    "tags": []
   },
   "outputs": [],
   "source": [
    "my_pipeline = make_pipeline(column_transform, regr)"
   ]
  },
  {
   "cell_type": "code",
   "execution_count": null,
   "id": "d0340ca3-375c-4460-8dd9-11984cc3615a",
   "metadata": {
    "tags": []
   },
   "outputs": [],
   "source": [
    "my_pipeline.fit(x_train, y_train)"
   ]
  },
  {
   "cell_type": "code",
   "execution_count": null,
   "id": "c0f4fb84-25ec-4d5d-b707-e4bb980fc297",
   "metadata": {
    "tags": []
   },
   "outputs": [],
   "source": [
    "my_pipeline.predict([[0.23, 'Ideal', 'E', 'SI2', 61.5, 55.0, 3.95, 3.98, 2.43]])"
   ]
  },
  {
   "cell_type": "code",
   "execution_count": null,
   "id": "7cc3ea3f-ef85-447e-a309-1bda32339700",
   "metadata": {
    "tags": []
   },
   "outputs": [],
   "source": [
    "!mkdir model_artifacts"
   ]
  },
  {
   "cell_type": "code",
   "execution_count": null,
   "id": "5adff48c-1784-4425-9662-b65340cb5585",
   "metadata": {
    "tags": []
   },
   "outputs": [],
   "source": [
    "joblib.dump(my_pipeline, 'model_artifacts/model.joblib')\n",
    "\n",
    "!gsutil cp model_artifacts/model.joblib $BUCKET_URI/$MODEL_ARTIFACT_DIR/"
   ]
  },
  {
   "cell_type": "code",
   "execution_count": null,
   "id": "7a45587a-6196-4dad-a5d4-b1193df728e9",
   "metadata": {
    "tags": []
   },
   "outputs": [],
   "source": [
    "clarity_dict={\"Flawless\": \"FL\",\n",
    "              \"Internally Flawless\": \"IF\",\n",
    "              \"Very Very Slightly Included\": \"VVS1\",\n",
    "              \"Very Slightly Included\": \"VS2\",\n",
    "              \"Slightly Included\": \"S12\",\n",
    "              \"Included\": \"I3\"}\n",
    "\n",
    "import json\n",
    "with open(\"model_artifacts/preprocessor.json\", \"w\") as f:\n",
    "    json.dump(clarity_dict, f)\n",
    "\n",
    "!gsutil cp model_artifacts/preprocessor.json $BUCKET_URI/$MODEL_ARTIFACT_DIR/"
   ]
  },
  {
   "cell_type": "code",
   "execution_count": null,
   "id": "34647b4f-a672-4c27-a8c5-15183790af51",
   "metadata": {
    "tags": []
   },
   "outputs": [],
   "source": [
    "%%writefile scr_dir/predictor.py\n",
    "\n",
    "import joblib\n",
    "import numpy as np\n",
    "import json\n",
    "\n",
    "from google.cloud import storage\n",
    "from google.cloud.aiplatform.prediction.sklearn.predictor import SklearnPredictor\n",
    "\n",
    "\n",
    "class CprPredictor(SklearnPredictor):\n",
    "\n",
    "    def __init__(self):\n",
    "        return\n",
    "\n",
    "    def load(self, artifacts_uri: str) -> None:\n",
    "        \"\"\"Loads the sklearn pipeline and preprocessing artifact.\"\"\"\n",
    "\n",
    "        super().load(artifacts_uri)\n",
    "\n",
    "        # open preprocessing artifact\n",
    "        with open(\"preprocessor.json\", \"rb\") as f:\n",
    "            self._preprocessor = json.load(f)\n",
    "\n",
    "\n",
    "    def preprocess(self, prediction_input: np.ndarray) -> np.ndarray:\n",
    "        \"\"\"Performs preprocessing by checking if clarity feature is in abbreviated form.\"\"\"\n",
    "\n",
    "        inputs = super().preprocess(prediction_input)\n",
    "\n",
    "        for sample in inputs:\n",
    "            if sample[3] not in self._preprocessor.values():\n",
    "                sample[3] = self._preprocessor[sample[3]]\n",
    "        return inputs\n",
    "\n",
    "    def postprocess(self, prediction_results: np.ndarray) -> dict:\n",
    "        \"\"\"Performs postprocessing by rounding predictions and converting to str.\"\"\"\n",
    "\n",
    "        return {\"predictions\": [f\"${value}\" for value in np.round(prediction_results)]}"
   ]
  },
  {
   "cell_type": "code",
   "execution_count": null,
   "id": "fb2a3e7a-149b-4d05-ae87-0cc90437b5c0",
   "metadata": {
    "tags": []
   },
   "outputs": [],
   "source": [
    "from google.cloud import aiplatform\n",
    "\n",
    "aiplatform.init(project=PROJECT_ID, location=REGION)\n",
    "\n",
    "import os\n",
    "\n",
    "from google.cloud.aiplatform.prediction import LocalModel\n",
    "\n",
    "from scr_dir.predictor import CprPredictor  # Should be path of variable $USER_SRC_DIR\n",
    "\n",
    "local_model = LocalModel.build_cpr_model(\n",
    "    \"scr_dir\",\n",
    "    f\"{REGION}-docker.pkg.dev/{PROJECT_ID}/{REPOSITORY}/{IMAGE}\",\n",
    "    predictor=CprPredictor,\n",
    "    requirements_path=os.path.join(\"scr_dir\", \"requirements.txt\"),\n",
    ")"
   ]
  },
  {
   "cell_type": "code",
   "execution_count": null,
   "id": "dec07e01-41fa-4dd0-847c-4a28d23fa5ba",
   "metadata": {
    "tags": []
   },
   "outputs": [],
   "source": [
    "import json\n",
    "\n",
    "sample = {\"instances\": [\n",
    "  [0.23, 'Ideal', 'E', 'VS2', 61.5, 55.0, 3.95, 3.98, 2.43],\n",
    "  [0.29, 'Premium', 'J', 'Internally Flawless', 52.5, 49.0, 4.00, 2.13, 3.11]]}\n",
    "\n",
    "with open('instances.json', 'w') as fp:\n",
    "    json.dump(sample, fp)"
   ]
  },
  {
   "cell_type": "code",
   "execution_count": null,
   "id": "4d2daf9f-9d01-46c4-b0ec-601949c58047",
   "metadata": {
    "tags": []
   },
   "outputs": [],
   "source": [
    "local_model"
   ]
  },
  {
   "cell_type": "code",
   "execution_count": null,
   "id": "c19b5410-ca09-4504-aaed-45268708432b",
   "metadata": {
    "tags": []
   },
   "outputs": [],
   "source": [
    "with local_model.deploy_to_local_endpoint(\n",
    "    artifact_uri = 'model_artifacts/', # local path to artifacts\n",
    ") as local_endpoint:\n",
    "    predict_response = local_endpoint.predict(\n",
    "        request_file='instances.json',\n",
    "        headers={\"Content-Type\": \"application/json\"},\n",
    "    )\n",
    "\n",
    "    health_check_response = local_endpoint.run_health_check()"
   ]
  },
  {
   "cell_type": "code",
   "execution_count": null,
   "id": "00c8b727-09f6-4b86-b044-28b922f0e4d6",
   "metadata": {
    "tags": []
   },
   "outputs": [],
   "source": [
    "predict_response.content"
   ]
  },
  {
   "cell_type": "code",
   "execution_count": null,
   "id": "52f82193-e1de-4b54-b611-59592ecc3213",
   "metadata": {
    "tags": []
   },
   "outputs": [],
   "source": [
    "!gcloud artifacts repositories create $REPOSITORY --repository-format=docker \\\n",
    "--location=$REGION --description=\"Docker repository\"\n",
    "\n",
    "!gcloud auth configure-docker $REGION-docker.pkg.dev --quiet"
   ]
  },
  {
   "cell_type": "code",
   "execution_count": null,
   "id": "2427cd97-7ddb-40b0-9a65-4672559fccbf",
   "metadata": {
    "tags": []
   },
   "outputs": [],
   "source": [
    "local_model.push_image()"
   ]
  },
  {
   "cell_type": "code",
   "execution_count": null,
   "id": "9e04817c-b13f-4a33-9876-000abeafd301",
   "metadata": {
    "tags": []
   },
   "outputs": [],
   "source": [
    "model = aiplatform.Model.upload(local_model = local_model,\n",
    "                                display_name=MODEL_DISPLAY_NAME,\n",
    "                                artifact_uri=f\"{BUCKET_URI}/{MODEL_ARTIFACT_DIR}\",)"
   ]
  },
  {
   "cell_type": "code",
   "execution_count": null,
   "id": "772a068e-f547-4f7b-ab32-994f432b012f",
   "metadata": {
    "tags": []
   },
   "outputs": [],
   "source": [
    "endpoint = model.deploy(machine_type=\"n1-standard-2\")"
   ]
  },
  {
   "cell_type": "code",
   "execution_count": null,
   "id": "62e1bd25-4218-40a3-bdd8-19f3712179c6",
   "metadata": {
    "tags": []
   },
   "outputs": [],
   "source": [
    "endpoint.predict(instances=[[0.23, 'Ideal', 'E', 'VS2', 61.5, 55.0, 3.95, 3.98, 2.43]])"
   ]
  },
  {
   "cell_type": "code",
   "execution_count": null,
   "id": "04437b37-4535-4356-8ce5-15b29bfd1ad0",
   "metadata": {
    "tags": []
   },
   "outputs": [],
   "source": [
    "endpoint.delete(force=True)"
   ]
  },
  {
   "cell_type": "code",
   "execution_count": null,
   "id": "996cd19d-ec31-42ee-bc20-a08ba5396557",
   "metadata": {},
   "outputs": [],
   "source": []
  }
 ],
 "metadata": {
  "environment": {
   "kernel": "python3",
   "name": "common-cpu.m114",
   "type": "gcloud",
   "uri": "gcr.io/deeplearning-platform-release/base-cpu:m114"
  },
  "kernelspec": {
   "display_name": "Python 3",
   "language": "python",
   "name": "python3"
  },
  "language_info": {
   "codemirror_mode": {
    "name": "ipython",
    "version": 3
   },
   "file_extension": ".py",
   "mimetype": "text/x-python",
   "name": "python",
   "nbconvert_exporter": "python",
   "pygments_lexer": "ipython3",
   "version": "3.10.13"
  }
 },
 "nbformat": 4,
 "nbformat_minor": 5
}
